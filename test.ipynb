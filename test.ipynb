{
 "cells": [
  {
   "cell_type": "markdown",
   "metadata": {},
   "source": [
    "$\\newcommand{\\cusps}{\\operatorname{cusps}}$\n",
    "$\\newcommand{\\im}{\\operatorname{im}}$\n",
    "$\\newcommand{\\Xsplit}{X_{\\text{sp}}}$\n",
    "$\\newcommand{\\Xnonsplit}{X_{\\text{ns}}}$\n",
    "$\\newcommand{\\XA}{X_{A_4}}$\n",
    "$\\newcommand{\\mat}[4]{\\left(\\begin{matrix} #1 & #2 \\\\ #3 & #4  \\end{matrix}\\right)}$\n",
    "$\\def\\Z{{\\mathbb Z}}$\n",
    "$\\def\\Q{{\\mathbb Q}}$\n",
    "$\\def\\R{{\\mathbb R}}$\n",
    "$\\def\\C{{\\mathbb C}}$\n",
    "$\\def\\T{{\\mathbb T}}$\n",
    "$\\def\\H{{\\mathbb H}}$\n",
    "$\\def\\P{{\\mathbb P}}$   \n",
    "$\\newcommand{\\GL}{\\operatorname{GL}}$\n",
    "$\\newcommand{\\SL}{\\operatorname{SL}}$\n",
    "$\\newcommand{\\PGL}{\\operatorname{PGL}}$\n",
    "$\\newcommand{\\PSL}{\\operatorname{PSL}}$"
   ]
  },
  {
   "cell_type": "markdown",
   "metadata": {},
   "source": [
    "# Computing the  modular curves $\\Xsplit(13)$, $\\Xnonsplit(13)$ and $\\XA(13)$ using modular symbols in Sage"
   ]
  },
  {
   "cell_type": "code",
   "execution_count": null,
   "metadata": {},
   "outputs": [],
   "source": []
  }
 ],
 "metadata": {
  "kernelspec": {
   "display_name": "SageMath 9.2",
   "language": "sage",
   "name": "sagemath"
  },
  "language_info": {
   "codemirror_mode": {
    "name": "ipython",
    "version": 3
   },
   "file_extension": ".py",
   "mimetype": "text/x-python",
   "name": "python",
   "nbconvert_exporter": "python",
   "pygments_lexer": "ipython3",
   "version": "3.8.5"
  }
 },
 "nbformat": 4,
 "nbformat_minor": 4
}
